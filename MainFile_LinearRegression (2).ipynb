{
 "cells": [
  {
   "cell_type": "code",
   "execution_count": 1,
   "id": "361604a6",
   "metadata": {},
   "outputs": [],
   "source": [
    "import pandas as pd\n",
    "import matplotlib as mp\n",
    "import matplotlib\n",
    "from matplotlib import pyplot as plt\n",
    "import numpy as np\n",
    "import seaborn as sb"
   ]
  },
  {
   "cell_type": "code",
   "execution_count": 2,
   "id": "f0053a07",
   "metadata": {},
   "outputs": [
    {
     "name": "stdout",
     "output_type": "stream",
     "text": [
      "Requirement already satisfied: fast_ml in c:\\users\\himanshi\\anaconda3\\lib\\site-packages (3.68)\n",
      "Note: you may need to restart the kernel to use updated packages.\n"
     ]
    }
   ],
   "source": [
    "pip install fast_ml"
   ]
  },
  {
   "cell_type": "code",
   "execution_count": 3,
   "id": "eef8c2c2",
   "metadata": {},
   "outputs": [],
   "source": [
    "Car_df=pd.read_excel('C:/Users/Himanshi/Downloads/ML_Car_dataset.xlsx')"
   ]
  },
  {
   "cell_type": "code",
   "execution_count": 4,
   "id": "d40de6d6",
   "metadata": {},
   "outputs": [
    {
     "data": {
      "text/html": [
       "<div>\n",
       "<style scoped>\n",
       "    .dataframe tbody tr th:only-of-type {\n",
       "        vertical-align: middle;\n",
       "    }\n",
       "\n",
       "    .dataframe tbody tr th {\n",
       "        vertical-align: top;\n",
       "    }\n",
       "\n",
       "    .dataframe thead th {\n",
       "        text-align: right;\n",
       "    }\n",
       "</style>\n",
       "<table border=\"1\" class=\"dataframe\">\n",
       "  <thead>\n",
       "    <tr style=\"text-align: right;\">\n",
       "      <th></th>\n",
       "      <th>Name</th>\n",
       "      <th>Year</th>\n",
       "      <th>Unnamed: 2</th>\n",
       "      <th>Selling_price</th>\n",
       "      <th>Unnamed: 4</th>\n",
       "      <th>Kms_driven</th>\n",
       "      <th>Fuel_type</th>\n",
       "      <th>Fuel_type2</th>\n",
       "      <th>Transmission</th>\n",
       "      <th>Transmission2</th>\n",
       "      <th>Seller_type</th>\n",
       "      <th>Owner</th>\n",
       "      <th>Unnamed: 12</th>\n",
       "      <th>Unnamed: 13</th>\n",
       "      <th>Unnamed: 14</th>\n",
       "    </tr>\n",
       "  </thead>\n",
       "  <tbody>\n",
       "    <tr>\n",
       "      <th>0</th>\n",
       "      <td>Ambassador CLASSIC 1500 DSL AC</td>\n",
       "      <td>2005</td>\n",
       "      <td>NaN</td>\n",
       "      <td>120000.0</td>\n",
       "      <td>NaN</td>\n",
       "      <td>50000</td>\n",
       "      <td>Diesel</td>\n",
       "      <td>Diesel</td>\n",
       "      <td>Manual</td>\n",
       "      <td>Manual</td>\n",
       "      <td>Individual</td>\n",
       "      <td>Second Owner</td>\n",
       "      <td>NaN</td>\n",
       "      <td>0</td>\n",
       "      <td>9900000.0</td>\n",
       "    </tr>\n",
       "    <tr>\n",
       "      <th>1</th>\n",
       "      <td>Ambassador Classic 2000 Dsz</td>\n",
       "      <td>2002</td>\n",
       "      <td>NaN</td>\n",
       "      <td>50000.0</td>\n",
       "      <td>NaN</td>\n",
       "      <td>120000</td>\n",
       "      <td>Diesel</td>\n",
       "      <td>Diesel</td>\n",
       "      <td>Manual</td>\n",
       "      <td>Manual</td>\n",
       "      <td>Individual</td>\n",
       "      <td>Fourth &amp; Above Owner</td>\n",
       "      <td>NaN</td>\n",
       "      <td>0</td>\n",
       "      <td>NaN</td>\n",
       "    </tr>\n",
       "    <tr>\n",
       "      <th>2</th>\n",
       "      <td>Ambassador Grand 1800 ISZ MPFI PW CL</td>\n",
       "      <td>2012</td>\n",
       "      <td>NaN</td>\n",
       "      <td>430000.0</td>\n",
       "      <td>NaN</td>\n",
       "      <td>50000</td>\n",
       "      <td>Petrol</td>\n",
       "      <td>Petrol</td>\n",
       "      <td>Manual</td>\n",
       "      <td>Manual</td>\n",
       "      <td>Individual</td>\n",
       "      <td>Second Owner</td>\n",
       "      <td>NaN</td>\n",
       "      <td>0</td>\n",
       "      <td>NaN</td>\n",
       "    </tr>\n",
       "    <tr>\n",
       "      <th>3</th>\n",
       "      <td>Audi A4 1.8 TFSI</td>\n",
       "      <td>2012</td>\n",
       "      <td>NaN</td>\n",
       "      <td>1200000.0</td>\n",
       "      <td>NaN</td>\n",
       "      <td>60000</td>\n",
       "      <td>Petrol</td>\n",
       "      <td>Petrol</td>\n",
       "      <td>Automatic</td>\n",
       "      <td>Automatic</td>\n",
       "      <td>Individual</td>\n",
       "      <td>Third Owner</td>\n",
       "      <td>NaN</td>\n",
       "      <td>0</td>\n",
       "      <td>NaN</td>\n",
       "    </tr>\n",
       "    <tr>\n",
       "      <th>4</th>\n",
       "      <td>Audi A4 2.0 TDI</td>\n",
       "      <td>2011</td>\n",
       "      <td>NaN</td>\n",
       "      <td>1295000.0</td>\n",
       "      <td>NaN</td>\n",
       "      <td>58000</td>\n",
       "      <td>Diesel</td>\n",
       "      <td>Diesel</td>\n",
       "      <td>Automatic</td>\n",
       "      <td>Automatic</td>\n",
       "      <td>Dealer</td>\n",
       "      <td>First Owner</td>\n",
       "      <td>NaN</td>\n",
       "      <td>0</td>\n",
       "      <td>NaN</td>\n",
       "    </tr>\n",
       "  </tbody>\n",
       "</table>\n",
       "</div>"
      ],
      "text/plain": [
       "                                   Name  Year  Unnamed: 2  Selling_price  \\\n",
       "0        Ambassador CLASSIC 1500 DSL AC  2005         NaN       120000.0   \n",
       "1           Ambassador Classic 2000 Dsz  2002         NaN        50000.0   \n",
       "2  Ambassador Grand 1800 ISZ MPFI PW CL  2012         NaN       430000.0   \n",
       "3                      Audi A4 1.8 TFSI  2012         NaN      1200000.0   \n",
       "4                       Audi A4 2.0 TDI  2011         NaN      1295000.0   \n",
       "\n",
       "   Unnamed: 4  Kms_driven Fuel_type Fuel_type2 Transmission Transmission2  \\\n",
       "0         NaN       50000    Diesel     Diesel       Manual        Manual   \n",
       "1         NaN      120000    Diesel     Diesel       Manual        Manual   \n",
       "2         NaN       50000    Petrol     Petrol       Manual        Manual   \n",
       "3         NaN       60000    Petrol     Petrol    Automatic     Automatic   \n",
       "4         NaN       58000    Diesel     Diesel    Automatic     Automatic   \n",
       "\n",
       "  Seller_type                 Owner  Unnamed: 12  Unnamed: 13  Unnamed: 14  \n",
       "0  Individual          Second Owner          NaN            0    9900000.0  \n",
       "1  Individual  Fourth & Above Owner          NaN            0          NaN  \n",
       "2  Individual          Second Owner          NaN            0          NaN  \n",
       "3  Individual           Third Owner          NaN            0          NaN  \n",
       "4      Dealer           First Owner          NaN            0          NaN  "
      ]
     },
     "execution_count": 4,
     "metadata": {},
     "output_type": "execute_result"
    }
   ],
   "source": [
    "#remove name, owner and seller type\n",
    "#add no of years\n",
    "#convert transmission to numbers\n",
    "#convert fuel type to numbers\n",
    "Car_df.head()\n"
   ]
  },
  {
   "cell_type": "code",
   "execution_count": 5,
   "id": "c9bb973f",
   "metadata": {},
   "outputs": [
    {
     "name": "stdout",
     "output_type": "stream",
     "text": [
      "['Individual' 'Dealer' 'Trustmark Dealer' nan]\n",
      "['Manual' 'Automatic']\n",
      "['Second Owner' 'Fourth & Above Owner' 'Third Owner' 'First Owner'\n",
      " 'Test Drive Car' 0 1 3 nan]\n"
     ]
    }
   ],
   "source": [
    "print(Car_df['Seller_type'].unique())\n",
    "print(Car_df['Transmission'].unique())\n",
    "print(Car_df['Owner'].unique())"
   ]
  },
  {
   "cell_type": "code",
   "execution_count": 6,
   "id": "4c9ced19",
   "metadata": {},
   "outputs": [
    {
     "data": {
      "text/plain": [
       "Index(['Name', 'Year', 'Unnamed: 2', 'Selling_price', 'Unnamed: 4',\n",
       "       'Kms_driven', 'Fuel_type', 'Fuel_type2', 'Transmission',\n",
       "       'Transmission2', 'Seller_type', 'Owner', 'Unnamed: 12', 'Unnamed: 13',\n",
       "       'Unnamed: 14'],\n",
       "      dtype='object')"
      ]
     },
     "execution_count": 6,
     "metadata": {},
     "output_type": "execute_result"
    }
   ],
   "source": [
    "Car_df.columns"
   ]
  },
  {
   "cell_type": "code",
   "execution_count": 7,
   "id": "bb107cf2",
   "metadata": {},
   "outputs": [],
   "source": [
    "cardf=Car_df[['Year','Selling_price', 'Kms_driven', 'Fuel_type', 'Transmission', 'Seller_type', 'Owner']]"
   ]
  },
  {
   "cell_type": "code",
   "execution_count": 8,
   "id": "b3b6de03",
   "metadata": {},
   "outputs": [
    {
     "data": {
      "text/html": [
       "<div>\n",
       "<style scoped>\n",
       "    .dataframe tbody tr th:only-of-type {\n",
       "        vertical-align: middle;\n",
       "    }\n",
       "\n",
       "    .dataframe tbody tr th {\n",
       "        vertical-align: top;\n",
       "    }\n",
       "\n",
       "    .dataframe thead th {\n",
       "        text-align: right;\n",
       "    }\n",
       "</style>\n",
       "<table border=\"1\" class=\"dataframe\">\n",
       "  <thead>\n",
       "    <tr style=\"text-align: right;\">\n",
       "      <th></th>\n",
       "      <th>Year</th>\n",
       "      <th>Selling_price</th>\n",
       "      <th>Kms_driven</th>\n",
       "      <th>Fuel_type</th>\n",
       "      <th>Transmission</th>\n",
       "      <th>Seller_type</th>\n",
       "      <th>Owner</th>\n",
       "    </tr>\n",
       "  </thead>\n",
       "  <tbody>\n",
       "    <tr>\n",
       "      <th>0</th>\n",
       "      <td>2005</td>\n",
       "      <td>120000.0</td>\n",
       "      <td>50000</td>\n",
       "      <td>Diesel</td>\n",
       "      <td>Manual</td>\n",
       "      <td>Individual</td>\n",
       "      <td>Second Owner</td>\n",
       "    </tr>\n",
       "    <tr>\n",
       "      <th>1</th>\n",
       "      <td>2002</td>\n",
       "      <td>50000.0</td>\n",
       "      <td>120000</td>\n",
       "      <td>Diesel</td>\n",
       "      <td>Manual</td>\n",
       "      <td>Individual</td>\n",
       "      <td>Fourth &amp; Above Owner</td>\n",
       "    </tr>\n",
       "    <tr>\n",
       "      <th>2</th>\n",
       "      <td>2012</td>\n",
       "      <td>430000.0</td>\n",
       "      <td>50000</td>\n",
       "      <td>Petrol</td>\n",
       "      <td>Manual</td>\n",
       "      <td>Individual</td>\n",
       "      <td>Second Owner</td>\n",
       "    </tr>\n",
       "    <tr>\n",
       "      <th>3</th>\n",
       "      <td>2012</td>\n",
       "      <td>1200000.0</td>\n",
       "      <td>60000</td>\n",
       "      <td>Petrol</td>\n",
       "      <td>Automatic</td>\n",
       "      <td>Individual</td>\n",
       "      <td>Third Owner</td>\n",
       "    </tr>\n",
       "    <tr>\n",
       "      <th>4</th>\n",
       "      <td>2011</td>\n",
       "      <td>1295000.0</td>\n",
       "      <td>58000</td>\n",
       "      <td>Diesel</td>\n",
       "      <td>Automatic</td>\n",
       "      <td>Dealer</td>\n",
       "      <td>First Owner</td>\n",
       "    </tr>\n",
       "  </tbody>\n",
       "</table>\n",
       "</div>"
      ],
      "text/plain": [
       "   Year  Selling_price  Kms_driven Fuel_type Transmission Seller_type  \\\n",
       "0  2005       120000.0       50000    Diesel       Manual  Individual   \n",
       "1  2002        50000.0      120000    Diesel       Manual  Individual   \n",
       "2  2012       430000.0       50000    Petrol       Manual  Individual   \n",
       "3  2012      1200000.0       60000    Petrol    Automatic  Individual   \n",
       "4  2011      1295000.0       58000    Diesel    Automatic      Dealer   \n",
       "\n",
       "                  Owner  \n",
       "0          Second Owner  \n",
       "1  Fourth & Above Owner  \n",
       "2          Second Owner  \n",
       "3           Third Owner  \n",
       "4           First Owner  "
      ]
     },
     "execution_count": 8,
     "metadata": {},
     "output_type": "execute_result"
    }
   ],
   "source": [
    "cardf.head()"
   ]
  },
  {
   "cell_type": "code",
   "execution_count": 9,
   "id": "9a90553d",
   "metadata": {},
   "outputs": [
    {
     "name": "stderr",
     "output_type": "stream",
     "text": [
      "C:\\Users\\Himanshi\\AppData\\Local\\Temp/ipykernel_22172/2831136640.py:1: SettingWithCopyWarning: \n",
      "A value is trying to be set on a copy of a slice from a DataFrame.\n",
      "Try using .loc[row_indexer,col_indexer] = value instead\n",
      "\n",
      "See the caveats in the documentation: https://pandas.pydata.org/pandas-docs/stable/user_guide/indexing.html#returning-a-view-versus-a-copy\n",
      "  cardf['Now_year']=2022\n"
     ]
    }
   ],
   "source": [
    "cardf['Now_year']=2022"
   ]
  },
  {
   "cell_type": "code",
   "execution_count": 10,
   "id": "f6a37579",
   "metadata": {},
   "outputs": [
    {
     "data": {
      "text/html": [
       "<div>\n",
       "<style scoped>\n",
       "    .dataframe tbody tr th:only-of-type {\n",
       "        vertical-align: middle;\n",
       "    }\n",
       "\n",
       "    .dataframe tbody tr th {\n",
       "        vertical-align: top;\n",
       "    }\n",
       "\n",
       "    .dataframe thead th {\n",
       "        text-align: right;\n",
       "    }\n",
       "</style>\n",
       "<table border=\"1\" class=\"dataframe\">\n",
       "  <thead>\n",
       "    <tr style=\"text-align: right;\">\n",
       "      <th></th>\n",
       "      <th>Year</th>\n",
       "      <th>Selling_price</th>\n",
       "      <th>Kms_driven</th>\n",
       "      <th>Fuel_type</th>\n",
       "      <th>Transmission</th>\n",
       "      <th>Seller_type</th>\n",
       "      <th>Owner</th>\n",
       "      <th>Now_year</th>\n",
       "    </tr>\n",
       "  </thead>\n",
       "  <tbody>\n",
       "    <tr>\n",
       "      <th>0</th>\n",
       "      <td>2005</td>\n",
       "      <td>120000.0</td>\n",
       "      <td>50000</td>\n",
       "      <td>Diesel</td>\n",
       "      <td>Manual</td>\n",
       "      <td>Individual</td>\n",
       "      <td>Second Owner</td>\n",
       "      <td>2022</td>\n",
       "    </tr>\n",
       "    <tr>\n",
       "      <th>1</th>\n",
       "      <td>2002</td>\n",
       "      <td>50000.0</td>\n",
       "      <td>120000</td>\n",
       "      <td>Diesel</td>\n",
       "      <td>Manual</td>\n",
       "      <td>Individual</td>\n",
       "      <td>Fourth &amp; Above Owner</td>\n",
       "      <td>2022</td>\n",
       "    </tr>\n",
       "    <tr>\n",
       "      <th>2</th>\n",
       "      <td>2012</td>\n",
       "      <td>430000.0</td>\n",
       "      <td>50000</td>\n",
       "      <td>Petrol</td>\n",
       "      <td>Manual</td>\n",
       "      <td>Individual</td>\n",
       "      <td>Second Owner</td>\n",
       "      <td>2022</td>\n",
       "    </tr>\n",
       "    <tr>\n",
       "      <th>3</th>\n",
       "      <td>2012</td>\n",
       "      <td>1200000.0</td>\n",
       "      <td>60000</td>\n",
       "      <td>Petrol</td>\n",
       "      <td>Automatic</td>\n",
       "      <td>Individual</td>\n",
       "      <td>Third Owner</td>\n",
       "      <td>2022</td>\n",
       "    </tr>\n",
       "    <tr>\n",
       "      <th>4</th>\n",
       "      <td>2011</td>\n",
       "      <td>1295000.0</td>\n",
       "      <td>58000</td>\n",
       "      <td>Diesel</td>\n",
       "      <td>Automatic</td>\n",
       "      <td>Dealer</td>\n",
       "      <td>First Owner</td>\n",
       "      <td>2022</td>\n",
       "    </tr>\n",
       "  </tbody>\n",
       "</table>\n",
       "</div>"
      ],
      "text/plain": [
       "   Year  Selling_price  Kms_driven Fuel_type Transmission Seller_type  \\\n",
       "0  2005       120000.0       50000    Diesel       Manual  Individual   \n",
       "1  2002        50000.0      120000    Diesel       Manual  Individual   \n",
       "2  2012       430000.0       50000    Petrol       Manual  Individual   \n",
       "3  2012      1200000.0       60000    Petrol    Automatic  Individual   \n",
       "4  2011      1295000.0       58000    Diesel    Automatic      Dealer   \n",
       "\n",
       "                  Owner  Now_year  \n",
       "0          Second Owner      2022  \n",
       "1  Fourth & Above Owner      2022  \n",
       "2          Second Owner      2022  \n",
       "3           Third Owner      2022  \n",
       "4           First Owner      2022  "
      ]
     },
     "execution_count": 10,
     "metadata": {},
     "output_type": "execute_result"
    }
   ],
   "source": [
    "cardf.head()"
   ]
  },
  {
   "cell_type": "code",
   "execution_count": 11,
   "id": "cb430106",
   "metadata": {},
   "outputs": [
    {
     "name": "stderr",
     "output_type": "stream",
     "text": [
      "C:\\Users\\Himanshi\\AppData\\Local\\Temp/ipykernel_22172/3283654386.py:1: SettingWithCopyWarning: \n",
      "A value is trying to be set on a copy of a slice from a DataFrame.\n",
      "Try using .loc[row_indexer,col_indexer] = value instead\n",
      "\n",
      "See the caveats in the documentation: https://pandas.pydata.org/pandas-docs/stable/user_guide/indexing.html#returning-a-view-versus-a-copy\n",
      "  cardf['total_years']=cardf['Now_year']-cardf['Year']\n"
     ]
    }
   ],
   "source": [
    "cardf['total_years']=cardf['Now_year']-cardf['Year']"
   ]
  },
  {
   "cell_type": "code",
   "execution_count": 12,
   "id": "89b492fd",
   "metadata": {},
   "outputs": [
    {
     "data": {
      "text/html": [
       "<div>\n",
       "<style scoped>\n",
       "    .dataframe tbody tr th:only-of-type {\n",
       "        vertical-align: middle;\n",
       "    }\n",
       "\n",
       "    .dataframe tbody tr th {\n",
       "        vertical-align: top;\n",
       "    }\n",
       "\n",
       "    .dataframe thead th {\n",
       "        text-align: right;\n",
       "    }\n",
       "</style>\n",
       "<table border=\"1\" class=\"dataframe\">\n",
       "  <thead>\n",
       "    <tr style=\"text-align: right;\">\n",
       "      <th></th>\n",
       "      <th>Year</th>\n",
       "      <th>Selling_price</th>\n",
       "      <th>Kms_driven</th>\n",
       "      <th>Fuel_type</th>\n",
       "      <th>Transmission</th>\n",
       "      <th>Seller_type</th>\n",
       "      <th>Owner</th>\n",
       "      <th>Now_year</th>\n",
       "      <th>total_years</th>\n",
       "    </tr>\n",
       "  </thead>\n",
       "  <tbody>\n",
       "    <tr>\n",
       "      <th>0</th>\n",
       "      <td>2005</td>\n",
       "      <td>120000.0</td>\n",
       "      <td>50000</td>\n",
       "      <td>Diesel</td>\n",
       "      <td>Manual</td>\n",
       "      <td>Individual</td>\n",
       "      <td>Second Owner</td>\n",
       "      <td>2022</td>\n",
       "      <td>17</td>\n",
       "    </tr>\n",
       "    <tr>\n",
       "      <th>1</th>\n",
       "      <td>2002</td>\n",
       "      <td>50000.0</td>\n",
       "      <td>120000</td>\n",
       "      <td>Diesel</td>\n",
       "      <td>Manual</td>\n",
       "      <td>Individual</td>\n",
       "      <td>Fourth &amp; Above Owner</td>\n",
       "      <td>2022</td>\n",
       "      <td>20</td>\n",
       "    </tr>\n",
       "    <tr>\n",
       "      <th>2</th>\n",
       "      <td>2012</td>\n",
       "      <td>430000.0</td>\n",
       "      <td>50000</td>\n",
       "      <td>Petrol</td>\n",
       "      <td>Manual</td>\n",
       "      <td>Individual</td>\n",
       "      <td>Second Owner</td>\n",
       "      <td>2022</td>\n",
       "      <td>10</td>\n",
       "    </tr>\n",
       "    <tr>\n",
       "      <th>3</th>\n",
       "      <td>2012</td>\n",
       "      <td>1200000.0</td>\n",
       "      <td>60000</td>\n",
       "      <td>Petrol</td>\n",
       "      <td>Automatic</td>\n",
       "      <td>Individual</td>\n",
       "      <td>Third Owner</td>\n",
       "      <td>2022</td>\n",
       "      <td>10</td>\n",
       "    </tr>\n",
       "    <tr>\n",
       "      <th>4</th>\n",
       "      <td>2011</td>\n",
       "      <td>1295000.0</td>\n",
       "      <td>58000</td>\n",
       "      <td>Diesel</td>\n",
       "      <td>Automatic</td>\n",
       "      <td>Dealer</td>\n",
       "      <td>First Owner</td>\n",
       "      <td>2022</td>\n",
       "      <td>11</td>\n",
       "    </tr>\n",
       "  </tbody>\n",
       "</table>\n",
       "</div>"
      ],
      "text/plain": [
       "   Year  Selling_price  Kms_driven Fuel_type Transmission Seller_type  \\\n",
       "0  2005       120000.0       50000    Diesel       Manual  Individual   \n",
       "1  2002        50000.0      120000    Diesel       Manual  Individual   \n",
       "2  2012       430000.0       50000    Petrol       Manual  Individual   \n",
       "3  2012      1200000.0       60000    Petrol    Automatic  Individual   \n",
       "4  2011      1295000.0       58000    Diesel    Automatic      Dealer   \n",
       "\n",
       "                  Owner  Now_year  total_years  \n",
       "0          Second Owner      2022           17  \n",
       "1  Fourth & Above Owner      2022           20  \n",
       "2          Second Owner      2022           10  \n",
       "3           Third Owner      2022           10  \n",
       "4           First Owner      2022           11  "
      ]
     },
     "execution_count": 12,
     "metadata": {},
     "output_type": "execute_result"
    }
   ],
   "source": [
    "cardf.head()"
   ]
  },
  {
   "cell_type": "code",
   "execution_count": 13,
   "id": "aa1ea943",
   "metadata": {},
   "outputs": [
    {
     "name": "stderr",
     "output_type": "stream",
     "text": [
      "C:\\Users\\Himanshi\\AppData\\Local\\Temp/ipykernel_22172/2513493847.py:1: SettingWithCopyWarning: \n",
      "A value is trying to be set on a copy of a slice from a DataFrame\n",
      "\n",
      "See the caveats in the documentation: https://pandas.pydata.org/pandas-docs/stable/user_guide/indexing.html#returning-a-view-versus-a-copy\n",
      "  cardf.drop(['Year'],axis=1,inplace=True)\n"
     ]
    }
   ],
   "source": [
    "cardf.drop(['Year'],axis=1,inplace=True)"
   ]
  },
  {
   "cell_type": "code",
   "execution_count": 14,
   "id": "4a6a7a46",
   "metadata": {},
   "outputs": [
    {
     "name": "stderr",
     "output_type": "stream",
     "text": [
      "C:\\Users\\Himanshi\\AppData\\Local\\Temp/ipykernel_22172/3625881561.py:1: SettingWithCopyWarning: \n",
      "A value is trying to be set on a copy of a slice from a DataFrame\n",
      "\n",
      "See the caveats in the documentation: https://pandas.pydata.org/pandas-docs/stable/user_guide/indexing.html#returning-a-view-versus-a-copy\n",
      "  cardf.drop(['Now_year'],axis=1,inplace=True)\n"
     ]
    }
   ],
   "source": [
    "cardf.drop(['Now_year'],axis=1,inplace=True)"
   ]
  },
  {
   "cell_type": "code",
   "execution_count": 15,
   "id": "b69f642a",
   "metadata": {},
   "outputs": [
    {
     "data": {
      "text/html": [
       "<div>\n",
       "<style scoped>\n",
       "    .dataframe tbody tr th:only-of-type {\n",
       "        vertical-align: middle;\n",
       "    }\n",
       "\n",
       "    .dataframe tbody tr th {\n",
       "        vertical-align: top;\n",
       "    }\n",
       "\n",
       "    .dataframe thead th {\n",
       "        text-align: right;\n",
       "    }\n",
       "</style>\n",
       "<table border=\"1\" class=\"dataframe\">\n",
       "  <thead>\n",
       "    <tr style=\"text-align: right;\">\n",
       "      <th></th>\n",
       "      <th>Selling_price</th>\n",
       "      <th>Kms_driven</th>\n",
       "      <th>Fuel_type</th>\n",
       "      <th>Transmission</th>\n",
       "      <th>Seller_type</th>\n",
       "      <th>Owner</th>\n",
       "      <th>total_years</th>\n",
       "    </tr>\n",
       "  </thead>\n",
       "  <tbody>\n",
       "    <tr>\n",
       "      <th>0</th>\n",
       "      <td>120000.0</td>\n",
       "      <td>50000</td>\n",
       "      <td>Diesel</td>\n",
       "      <td>Manual</td>\n",
       "      <td>Individual</td>\n",
       "      <td>Second Owner</td>\n",
       "      <td>17</td>\n",
       "    </tr>\n",
       "    <tr>\n",
       "      <th>1</th>\n",
       "      <td>50000.0</td>\n",
       "      <td>120000</td>\n",
       "      <td>Diesel</td>\n",
       "      <td>Manual</td>\n",
       "      <td>Individual</td>\n",
       "      <td>Fourth &amp; Above Owner</td>\n",
       "      <td>20</td>\n",
       "    </tr>\n",
       "    <tr>\n",
       "      <th>2</th>\n",
       "      <td>430000.0</td>\n",
       "      <td>50000</td>\n",
       "      <td>Petrol</td>\n",
       "      <td>Manual</td>\n",
       "      <td>Individual</td>\n",
       "      <td>Second Owner</td>\n",
       "      <td>10</td>\n",
       "    </tr>\n",
       "    <tr>\n",
       "      <th>3</th>\n",
       "      <td>1200000.0</td>\n",
       "      <td>60000</td>\n",
       "      <td>Petrol</td>\n",
       "      <td>Automatic</td>\n",
       "      <td>Individual</td>\n",
       "      <td>Third Owner</td>\n",
       "      <td>10</td>\n",
       "    </tr>\n",
       "    <tr>\n",
       "      <th>4</th>\n",
       "      <td>1295000.0</td>\n",
       "      <td>58000</td>\n",
       "      <td>Diesel</td>\n",
       "      <td>Automatic</td>\n",
       "      <td>Dealer</td>\n",
       "      <td>First Owner</td>\n",
       "      <td>11</td>\n",
       "    </tr>\n",
       "  </tbody>\n",
       "</table>\n",
       "</div>"
      ],
      "text/plain": [
       "   Selling_price  Kms_driven Fuel_type Transmission Seller_type  \\\n",
       "0       120000.0       50000    Diesel       Manual  Individual   \n",
       "1        50000.0      120000    Diesel       Manual  Individual   \n",
       "2       430000.0       50000    Petrol       Manual  Individual   \n",
       "3      1200000.0       60000    Petrol    Automatic  Individual   \n",
       "4      1295000.0       58000    Diesel    Automatic      Dealer   \n",
       "\n",
       "                  Owner  total_years  \n",
       "0          Second Owner           17  \n",
       "1  Fourth & Above Owner           20  \n",
       "2          Second Owner           10  \n",
       "3           Third Owner           10  \n",
       "4           First Owner           11  "
      ]
     },
     "execution_count": 15,
     "metadata": {},
     "output_type": "execute_result"
    }
   ],
   "source": [
    "cardf.head()"
   ]
  },
  {
   "cell_type": "code",
   "execution_count": 16,
   "id": "f8e405de",
   "metadata": {},
   "outputs": [
    {
     "name": "stderr",
     "output_type": "stream",
     "text": [
      "C:\\Users\\Himanshi\\AppData\\Local\\Temp/ipykernel_22172/1287043967.py:1: FutureWarning: The default value of numeric_only in DataFrame.corr is deprecated. In a future version, it will default to False. Select only valid columns or specify the value of numeric_only to silence this warning.\n",
      "  cardf.corr()\n"
     ]
    },
    {
     "data": {
      "text/html": [
       "<div>\n",
       "<style scoped>\n",
       "    .dataframe tbody tr th:only-of-type {\n",
       "        vertical-align: middle;\n",
       "    }\n",
       "\n",
       "    .dataframe tbody tr th {\n",
       "        vertical-align: top;\n",
       "    }\n",
       "\n",
       "    .dataframe thead th {\n",
       "        text-align: right;\n",
       "    }\n",
       "</style>\n",
       "<table border=\"1\" class=\"dataframe\">\n",
       "  <thead>\n",
       "    <tr style=\"text-align: right;\">\n",
       "      <th></th>\n",
       "      <th>Selling_price</th>\n",
       "      <th>Kms_driven</th>\n",
       "      <th>total_years</th>\n",
       "    </tr>\n",
       "  </thead>\n",
       "  <tbody>\n",
       "    <tr>\n",
       "      <th>Selling_price</th>\n",
       "      <td>1.000000</td>\n",
       "      <td>-0.177214</td>\n",
       "      <td>-0.419921</td>\n",
       "    </tr>\n",
       "    <tr>\n",
       "      <th>Kms_driven</th>\n",
       "      <td>-0.177214</td>\n",
       "      <td>1.000000</td>\n",
       "      <td>0.401638</td>\n",
       "    </tr>\n",
       "    <tr>\n",
       "      <th>total_years</th>\n",
       "      <td>-0.419921</td>\n",
       "      <td>0.401638</td>\n",
       "      <td>1.000000</td>\n",
       "    </tr>\n",
       "  </tbody>\n",
       "</table>\n",
       "</div>"
      ],
      "text/plain": [
       "               Selling_price  Kms_driven  total_years\n",
       "Selling_price       1.000000   -0.177214    -0.419921\n",
       "Kms_driven         -0.177214    1.000000     0.401638\n",
       "total_years        -0.419921    0.401638     1.000000"
      ]
     },
     "execution_count": 16,
     "metadata": {},
     "output_type": "execute_result"
    }
   ],
   "source": [
    "cardf.corr()"
   ]
  },
  {
   "cell_type": "code",
   "execution_count": 17,
   "id": "e81c0cd6",
   "metadata": {},
   "outputs": [
    {
     "name": "stderr",
     "output_type": "stream",
     "text": [
      "C:\\Users\\Himanshi\\AppData\\Local\\Temp/ipykernel_22172/139270622.py:1: FutureWarning: The default value of numeric_only in DataFrame.corr is deprecated. In a future version, it will default to False. Select only valid columns or specify the value of numeric_only to silence this warning.\n",
      "  dataplot = sb.heatmap(cardf.corr(), cmap=\"YlGnBu\", annot=True)\n"
     ]
    },
    {
     "data": {
      "image/png": "[encoded data removed]",
      "text/plain": [
       "<Figure size 432x288 with 2 Axes>"
      ]
     },
     "metadata": {
      "needs_background": "light"
     },
     "output_type": "display_data"
    }
   ],
   "source": [
    "dataplot = sb.heatmap(cardf.corr(), cmap=\"YlGnBu\", annot=True)"
   ]
  },
  {
   "cell_type": "code",
   "execution_count": 18,
   "id": "4d2e0b0b",
   "metadata": {},
   "outputs": [
    {
     "name": "stderr",
     "output_type": "stream",
     "text": [
      "C:\\Users\\Himanshi\\AppData\\Local\\Temp/ipykernel_22172/2247834170.py:1: SettingWithCopyWarning: \n",
      "A value is trying to be set on a copy of a slice from a DataFrame\n",
      "\n",
      "See the caveats in the documentation: https://pandas.pydata.org/pandas-docs/stable/user_guide/indexing.html#returning-a-view-versus-a-copy\n",
      "  cardf.drop(['Owner'],axis=1,inplace=True)\n"
     ]
    }
   ],
   "source": [
    "cardf.drop(['Owner'],axis=1,inplace=True)"
   ]
  },
  {
   "cell_type": "code",
   "execution_count": 19,
   "id": "e71cf496",
   "metadata": {},
   "outputs": [
    {
     "name": "stderr",
     "output_type": "stream",
     "text": [
      "C:\\Users\\Himanshi\\AppData\\Local\\Temp/ipykernel_22172/68817311.py:1: SettingWithCopyWarning: \n",
      "A value is trying to be set on a copy of a slice from a DataFrame\n",
      "\n",
      "See the caveats in the documentation: https://pandas.pydata.org/pandas-docs/stable/user_guide/indexing.html#returning-a-view-versus-a-copy\n",
      "  cardf.drop(['Seller_type'],axis=1,inplace=True)\n"
     ]
    }
   ],
   "source": [
    "cardf.drop(['Seller_type'],axis=1,inplace=True)"
   ]
  },
  {
   "cell_type": "code",
   "execution_count": 20,
   "id": "f81a4318",
   "metadata": {},
   "outputs": [
    {
     "data": {
      "text/html": [
       "<div>\n",
       "<style scoped>\n",
       "    .dataframe tbody tr th:only-of-type {\n",
       "        vertical-align: middle;\n",
       "    }\n",
       "\n",
       "    .dataframe tbody tr th {\n",
       "        vertical-align: top;\n",
       "    }\n",
       "\n",
       "    .dataframe thead th {\n",
       "        text-align: right;\n",
       "    }\n",
       "</style>\n",
       "<table border=\"1\" class=\"dataframe\">\n",
       "  <thead>\n",
       "    <tr style=\"text-align: right;\">\n",
       "      <th></th>\n",
       "      <th>Selling_price</th>\n",
       "      <th>Kms_driven</th>\n",
       "      <th>Fuel_type</th>\n",
       "      <th>Transmission</th>\n",
       "      <th>total_years</th>\n",
       "    </tr>\n",
       "  </thead>\n",
       "  <tbody>\n",
       "    <tr>\n",
       "      <th>0</th>\n",
       "      <td>120000.0</td>\n",
       "      <td>50000</td>\n",
       "      <td>Diesel</td>\n",
       "      <td>Manual</td>\n",
       "      <td>17</td>\n",
       "    </tr>\n",
       "    <tr>\n",
       "      <th>1</th>\n",
       "      <td>50000.0</td>\n",
       "      <td>120000</td>\n",
       "      <td>Diesel</td>\n",
       "      <td>Manual</td>\n",
       "      <td>20</td>\n",
       "    </tr>\n",
       "    <tr>\n",
       "      <th>2</th>\n",
       "      <td>430000.0</td>\n",
       "      <td>50000</td>\n",
       "      <td>Petrol</td>\n",
       "      <td>Manual</td>\n",
       "      <td>10</td>\n",
       "    </tr>\n",
       "    <tr>\n",
       "      <th>3</th>\n",
       "      <td>1200000.0</td>\n",
       "      <td>60000</td>\n",
       "      <td>Petrol</td>\n",
       "      <td>Automatic</td>\n",
       "      <td>10</td>\n",
       "    </tr>\n",
       "    <tr>\n",
       "      <th>4</th>\n",
       "      <td>1295000.0</td>\n",
       "      <td>58000</td>\n",
       "      <td>Diesel</td>\n",
       "      <td>Automatic</td>\n",
       "      <td>11</td>\n",
       "    </tr>\n",
       "  </tbody>\n",
       "</table>\n",
       "</div>"
      ],
      "text/plain": [
       "   Selling_price  Kms_driven Fuel_type Transmission  total_years\n",
       "0       120000.0       50000    Diesel       Manual           17\n",
       "1        50000.0      120000    Diesel       Manual           20\n",
       "2       430000.0       50000    Petrol       Manual           10\n",
       "3      1200000.0       60000    Petrol    Automatic           10\n",
       "4      1295000.0       58000    Diesel    Automatic           11"
      ]
     },
     "execution_count": 20,
     "metadata": {},
     "output_type": "execute_result"
    }
   ],
   "source": [
    "cardf.head()"
   ]
  },
  {
   "cell_type": "code",
   "execution_count": 21,
   "id": "ca3f07b3",
   "metadata": {},
   "outputs": [],
   "source": [
    "cardf=pd.get_dummies(cardf,drop_first=True)"
   ]
  },
  {
   "cell_type": "code",
   "execution_count": 22,
   "id": "75ff5679",
   "metadata": {},
   "outputs": [
    {
     "data": {
      "text/html": [
       "<div>\n",
       "<style scoped>\n",
       "    .dataframe tbody tr th:only-of-type {\n",
       "        vertical-align: middle;\n",
       "    }\n",
       "\n",
       "    .dataframe tbody tr th {\n",
       "        vertical-align: top;\n",
       "    }\n",
       "\n",
       "    .dataframe thead th {\n",
       "        text-align: right;\n",
       "    }\n",
       "</style>\n",
       "<table border=\"1\" class=\"dataframe\">\n",
       "  <thead>\n",
       "    <tr style=\"text-align: right;\">\n",
       "      <th></th>\n",
       "      <th>Selling_price</th>\n",
       "      <th>Kms_driven</th>\n",
       "      <th>total_years</th>\n",
       "      <th>Fuel_type_Diesel</th>\n",
       "      <th>Fuel_type_Electric</th>\n",
       "      <th>Fuel_type_LPG</th>\n",
       "      <th>Fuel_type_Petrol</th>\n",
       "      <th>Transmission_Manual</th>\n",
       "    </tr>\n",
       "  </thead>\n",
       "  <tbody>\n",
       "    <tr>\n",
       "      <th>0</th>\n",
       "      <td>120000.0</td>\n",
       "      <td>50000</td>\n",
       "      <td>17</td>\n",
       "      <td>1</td>\n",
       "      <td>0</td>\n",
       "      <td>0</td>\n",
       "      <td>0</td>\n",
       "      <td>1</td>\n",
       "    </tr>\n",
       "    <tr>\n",
       "      <th>1</th>\n",
       "      <td>50000.0</td>\n",
       "      <td>120000</td>\n",
       "      <td>20</td>\n",
       "      <td>1</td>\n",
       "      <td>0</td>\n",
       "      <td>0</td>\n",
       "      <td>0</td>\n",
       "      <td>1</td>\n",
       "    </tr>\n",
       "    <tr>\n",
       "      <th>2</th>\n",
       "      <td>430000.0</td>\n",
       "      <td>50000</td>\n",
       "      <td>10</td>\n",
       "      <td>0</td>\n",
       "      <td>0</td>\n",
       "      <td>0</td>\n",
       "      <td>1</td>\n",
       "      <td>1</td>\n",
       "    </tr>\n",
       "    <tr>\n",
       "      <th>3</th>\n",
       "      <td>1200000.0</td>\n",
       "      <td>60000</td>\n",
       "      <td>10</td>\n",
       "      <td>0</td>\n",
       "      <td>0</td>\n",
       "      <td>0</td>\n",
       "      <td>1</td>\n",
       "      <td>0</td>\n",
       "    </tr>\n",
       "    <tr>\n",
       "      <th>4</th>\n",
       "      <td>1295000.0</td>\n",
       "      <td>58000</td>\n",
       "      <td>11</td>\n",
       "      <td>1</td>\n",
       "      <td>0</td>\n",
       "      <td>0</td>\n",
       "      <td>0</td>\n",
       "      <td>0</td>\n",
       "    </tr>\n",
       "  </tbody>\n",
       "</table>\n",
       "</div>"
      ],
      "text/plain": [
       "   Selling_price  Kms_driven  total_years  Fuel_type_Diesel  \\\n",
       "0       120000.0       50000           17                 1   \n",
       "1        50000.0      120000           20                 1   \n",
       "2       430000.0       50000           10                 0   \n",
       "3      1200000.0       60000           10                 0   \n",
       "4      1295000.0       58000           11                 1   \n",
       "\n",
       "   Fuel_type_Electric  Fuel_type_LPG  Fuel_type_Petrol  Transmission_Manual  \n",
       "0                   0              0                 0                    1  \n",
       "1                   0              0                 0                    1  \n",
       "2                   0              0                 1                    1  \n",
       "3                   0              0                 1                    0  \n",
       "4                   0              0                 0                    0  "
      ]
     },
     "execution_count": 22,
     "metadata": {},
     "output_type": "execute_result"
    }
   ],
   "source": [
    "cardf.head()"
   ]
  },
  {
   "cell_type": "code",
   "execution_count": 23,
   "id": "e6fd3466",
   "metadata": {},
   "outputs": [
    {
     "data": {
      "text/html": [
       "<div>\n",
       "<style scoped>\n",
       "    .dataframe tbody tr th:only-of-type {\n",
       "        vertical-align: middle;\n",
       "    }\n",
       "\n",
       "    .dataframe tbody tr th {\n",
       "        vertical-align: top;\n",
       "    }\n",
       "\n",
       "    .dataframe thead th {\n",
       "        text-align: right;\n",
       "    }\n",
       "</style>\n",
       "<table border=\"1\" class=\"dataframe\">\n",
       "  <thead>\n",
       "    <tr style=\"text-align: right;\">\n",
       "      <th></th>\n",
       "      <th>Selling_price</th>\n",
       "      <th>Kms_driven</th>\n",
       "      <th>total_years</th>\n",
       "      <th>Fuel_type_Diesel</th>\n",
       "      <th>Fuel_type_Electric</th>\n",
       "      <th>Fuel_type_LPG</th>\n",
       "      <th>Fuel_type_Petrol</th>\n",
       "      <th>Transmission_Manual</th>\n",
       "    </tr>\n",
       "  </thead>\n",
       "  <tbody>\n",
       "    <tr>\n",
       "      <th>count</th>\n",
       "      <td>1.164900e+04</td>\n",
       "      <td>1.164900e+04</td>\n",
       "      <td>11649.000000</td>\n",
       "      <td>11649.000000</td>\n",
       "      <td>11649.000000</td>\n",
       "      <td>11649.000000</td>\n",
       "      <td>11649.000000</td>\n",
       "      <td>11649.000000</td>\n",
       "    </tr>\n",
       "    <tr>\n",
       "      <th>mean</th>\n",
       "      <td>5.507158e+05</td>\n",
       "      <td>6.988418e+04</td>\n",
       "      <td>8.483904</td>\n",
       "      <td>0.510430</td>\n",
       "      <td>0.000086</td>\n",
       "      <td>0.005151</td>\n",
       "      <td>0.474204</td>\n",
       "      <td>0.891922</td>\n",
       "    </tr>\n",
       "    <tr>\n",
       "      <th>std</th>\n",
       "      <td>6.277735e+05</td>\n",
       "      <td>5.374362e+04</td>\n",
       "      <td>4.130919</td>\n",
       "      <td>0.499913</td>\n",
       "      <td>0.009265</td>\n",
       "      <td>0.071586</td>\n",
       "      <td>0.499356</td>\n",
       "      <td>0.310492</td>\n",
       "    </tr>\n",
       "    <tr>\n",
       "      <th>min</th>\n",
       "      <td>1.000000e+04</td>\n",
       "      <td>1.000000e+00</td>\n",
       "      <td>0.000000</td>\n",
       "      <td>0.000000</td>\n",
       "      <td>0.000000</td>\n",
       "      <td>0.000000</td>\n",
       "      <td>0.000000</td>\n",
       "      <td>0.000000</td>\n",
       "    </tr>\n",
       "    <tr>\n",
       "      <th>25%</th>\n",
       "      <td>2.360000e+05</td>\n",
       "      <td>3.500000e+04</td>\n",
       "      <td>5.000000</td>\n",
       "      <td>0.000000</td>\n",
       "      <td>0.000000</td>\n",
       "      <td>0.000000</td>\n",
       "      <td>0.000000</td>\n",
       "      <td>1.000000</td>\n",
       "    </tr>\n",
       "    <tr>\n",
       "      <th>50%</th>\n",
       "      <td>4.000000e+05</td>\n",
       "      <td>6.000000e+04</td>\n",
       "      <td>8.000000</td>\n",
       "      <td>1.000000</td>\n",
       "      <td>0.000000</td>\n",
       "      <td>0.000000</td>\n",
       "      <td>0.000000</td>\n",
       "      <td>1.000000</td>\n",
       "    </tr>\n",
       "    <tr>\n",
       "      <th>75%</th>\n",
       "      <td>6.500000e+05</td>\n",
       "      <td>9.262100e+04</td>\n",
       "      <td>11.000000</td>\n",
       "      <td>1.000000</td>\n",
       "      <td>0.000000</td>\n",
       "      <td>0.000000</td>\n",
       "      <td>1.000000</td>\n",
       "      <td>1.000000</td>\n",
       "    </tr>\n",
       "    <tr>\n",
       "      <th>max</th>\n",
       "      <td>9.900000e+06</td>\n",
       "      <td>2.360457e+06</td>\n",
       "      <td>39.000000</td>\n",
       "      <td>1.000000</td>\n",
       "      <td>1.000000</td>\n",
       "      <td>1.000000</td>\n",
       "      <td>1.000000</td>\n",
       "      <td>1.000000</td>\n",
       "    </tr>\n",
       "  </tbody>\n",
       "</table>\n",
       "</div>"
      ],
      "text/plain": [
       "       Selling_price    Kms_driven   total_years  Fuel_type_Diesel  \\\n",
       "count   1.164900e+04  1.164900e+04  11649.000000      11649.000000   \n",
       "mean    5.507158e+05  6.988418e+04      8.483904          0.510430   \n",
       "std     6.277735e+05  5.374362e+04      4.130919          0.499913   \n",
       "min     1.000000e+04  1.000000e+00      0.000000          0.000000   \n",
       "25%     2.360000e+05  3.500000e+04      5.000000          0.000000   \n",
       "50%     4.000000e+05  6.000000e+04      8.000000          1.000000   \n",
       "75%     6.500000e+05  9.262100e+04     11.000000          1.000000   \n",
       "max     9.900000e+06  2.360457e+06     39.000000          1.000000   \n",
       "\n",
       "       Fuel_type_Electric  Fuel_type_LPG  Fuel_type_Petrol  \\\n",
       "count        11649.000000   11649.000000      11649.000000   \n",
       "mean             0.000086       0.005151          0.474204   \n",
       "std              0.009265       0.071586          0.499356   \n",
       "min              0.000000       0.000000          0.000000   \n",
       "25%              0.000000       0.000000          0.000000   \n",
       "50%              0.000000       0.000000          0.000000   \n",
       "75%              0.000000       0.000000          1.000000   \n",
       "max              1.000000       1.000000          1.000000   \n",
       "\n",
       "       Transmission_Manual  \n",
       "count         11649.000000  \n",
       "mean              0.891922  \n",
       "std               0.310492  \n",
       "min               0.000000  \n",
       "25%               1.000000  \n",
       "50%               1.000000  \n",
       "75%               1.000000  \n",
       "max               1.000000  "
      ]
     },
     "execution_count": 23,
     "metadata": {},
     "output_type": "execute_result"
    }
   ],
   "source": [
    "cardf.describe()"
   ]
  },
  {
   "cell_type": "code",
   "execution_count": 24,
   "id": "5f406bd2",
   "metadata": {},
   "outputs": [
    {
     "name": "stdout",
     "output_type": "stream",
     "text": [
      "[1 0]\n"
     ]
    }
   ],
   "source": [
    "print(cardf['Transmission_Manual'].unique())"
   ]
  },
  {
   "cell_type": "code",
   "execution_count": 25,
   "id": "ea0b01fe",
   "metadata": {},
   "outputs": [],
   "source": [
    "by_fuel1 = cardf.groupby('Fuel_type_Electric')"
   ]
  },
  {
   "cell_type": "code",
   "execution_count": 26,
   "id": "0e765ab5",
   "metadata": {},
   "outputs": [
    {
     "data": {
      "text/plain": [
       "Fuel_type_Electric\n",
       "0    11648\n",
       "1        1\n",
       "dtype: int64"
      ]
     },
     "execution_count": 26,
     "metadata": {},
     "output_type": "execute_result"
    }
   ],
   "source": [
    "by_fuel1.size()"
   ]
  },
  {
   "cell_type": "code",
   "execution_count": 27,
   "id": "89b31b0b",
   "metadata": {},
   "outputs": [],
   "source": [
    "by_fuel_lpg = cardf.groupby('Fuel_type_LPG')"
   ]
  },
  {
   "cell_type": "code",
   "execution_count": 28,
   "id": "1d9a5eac",
   "metadata": {},
   "outputs": [
    {
     "data": {
      "text/plain": [
       "Fuel_type_LPG\n",
       "0    11589\n",
       "1       60\n",
       "dtype: int64"
      ]
     },
     "execution_count": 28,
     "metadata": {},
     "output_type": "execute_result"
    }
   ],
   "source": [
    "by_fuel_lpg.size()"
   ]
  },
  {
   "cell_type": "code",
   "execution_count": 29,
   "id": "003b8a6d",
   "metadata": {},
   "outputs": [],
   "source": [
    "cardf.drop(['Fuel_type_Electric'],axis=1,inplace=True)"
   ]
  },
  {
   "cell_type": "code",
   "execution_count": 30,
   "id": "aca25a50",
   "metadata": {},
   "outputs": [
    {
     "data": {
      "text/html": [
       "<div>\n",
       "<style scoped>\n",
       "    .dataframe tbody tr th:only-of-type {\n",
       "        vertical-align: middle;\n",
       "    }\n",
       "\n",
       "    .dataframe tbody tr th {\n",
       "        vertical-align: top;\n",
       "    }\n",
       "\n",
       "    .dataframe thead th {\n",
       "        text-align: right;\n",
       "    }\n",
       "</style>\n",
       "<table border=\"1\" class=\"dataframe\">\n",
       "  <thead>\n",
       "    <tr style=\"text-align: right;\">\n",
       "      <th></th>\n",
       "      <th>Selling_price</th>\n",
       "      <th>Kms_driven</th>\n",
       "      <th>total_years</th>\n",
       "      <th>Fuel_type_Diesel</th>\n",
       "      <th>Fuel_type_LPG</th>\n",
       "      <th>Fuel_type_Petrol</th>\n",
       "      <th>Transmission_Manual</th>\n",
       "    </tr>\n",
       "  </thead>\n",
       "  <tbody>\n",
       "    <tr>\n",
       "      <th>0</th>\n",
       "      <td>120000.0</td>\n",
       "      <td>50000</td>\n",
       "      <td>17</td>\n",
       "      <td>1</td>\n",
       "      <td>0</td>\n",
       "      <td>0</td>\n",
       "      <td>1</td>\n",
       "    </tr>\n",
       "    <tr>\n",
       "      <th>1</th>\n",
       "      <td>50000.0</td>\n",
       "      <td>120000</td>\n",
       "      <td>20</td>\n",
       "      <td>1</td>\n",
       "      <td>0</td>\n",
       "      <td>0</td>\n",
       "      <td>1</td>\n",
       "    </tr>\n",
       "    <tr>\n",
       "      <th>2</th>\n",
       "      <td>430000.0</td>\n",
       "      <td>50000</td>\n",
       "      <td>10</td>\n",
       "      <td>0</td>\n",
       "      <td>0</td>\n",
       "      <td>1</td>\n",
       "      <td>1</td>\n",
       "    </tr>\n",
       "    <tr>\n",
       "      <th>3</th>\n",
       "      <td>1200000.0</td>\n",
       "      <td>60000</td>\n",
       "      <td>10</td>\n",
       "      <td>0</td>\n",
       "      <td>0</td>\n",
       "      <td>1</td>\n",
       "      <td>0</td>\n",
       "    </tr>\n",
       "    <tr>\n",
       "      <th>4</th>\n",
       "      <td>1295000.0</td>\n",
       "      <td>58000</td>\n",
       "      <td>11</td>\n",
       "      <td>1</td>\n",
       "      <td>0</td>\n",
       "      <td>0</td>\n",
       "      <td>0</td>\n",
       "    </tr>\n",
       "  </tbody>\n",
       "</table>\n",
       "</div>"
      ],
      "text/plain": [
       "   Selling_price  Kms_driven  total_years  Fuel_type_Diesel  Fuel_type_LPG  \\\n",
       "0       120000.0       50000           17                 1              0   \n",
       "1        50000.0      120000           20                 1              0   \n",
       "2       430000.0       50000           10                 0              0   \n",
       "3      1200000.0       60000           10                 0              0   \n",
       "4      1295000.0       58000           11                 1              0   \n",
       "\n",
       "   Fuel_type_Petrol  Transmission_Manual  \n",
       "0                 0                    1  \n",
       "1                 0                    1  \n",
       "2                 1                    1  \n",
       "3                 1                    0  \n",
       "4                 0                    0  "
      ]
     },
     "execution_count": 30,
     "metadata": {},
     "output_type": "execute_result"
    }
   ],
   "source": [
    "cardf.head()"
   ]
  },
  {
   "cell_type": "code",
   "execution_count": 31,
   "id": "9898f521",
   "metadata": {},
   "outputs": [],
   "source": [
    "X=cardf.iloc[:,1:]\n",
    "Y=cardf.iloc[:,0]"
   ]
  },
  {
   "cell_type": "raw",
   "id": "d54ef382",
   "metadata": {},
   "source": [
    "X.head()"
   ]
  },
  {
   "cell_type": "code",
   "execution_count": 32,
   "id": "3397ef78",
   "metadata": {},
   "outputs": [
    {
     "data": {
      "text/plain": [
       "0     120000.0\n",
       "1      50000.0\n",
       "2     430000.0\n",
       "3    1200000.0\n",
       "4    1295000.0\n",
       "Name: Selling_price, dtype: float64"
      ]
     },
     "execution_count": 32,
     "metadata": {},
     "output_type": "execute_result"
    }
   ],
   "source": [
    "Y.head()"
   ]
  },
  {
   "cell_type": "code",
   "execution_count": 33,
   "id": "52af6e2e",
   "metadata": {},
   "outputs": [
    {
     "data": {
      "text/plain": [
       "True"
      ]
     },
     "execution_count": 33,
     "metadata": {},
     "output_type": "execute_result"
    }
   ],
   "source": [
    "np.all(np.isfinite(cardf))"
   ]
  },
  {
   "cell_type": "code",
   "execution_count": 34,
   "id": "324f892b",
   "metadata": {},
   "outputs": [
    {
     "data": {
      "text/plain": [
       "False"
      ]
     },
     "execution_count": 34,
     "metadata": {},
     "output_type": "execute_result"
    }
   ],
   "source": [
    "np.any(np.isnan(cardf))"
   ]
  },
  {
   "cell_type": "code",
   "execution_count": 35,
   "id": "12584cea",
   "metadata": {},
   "outputs": [],
   "source": [
    "cardf.dropna(inplace=True)"
   ]
  },
  {
   "cell_type": "code",
   "execution_count": 36,
   "id": "656bf5e3",
   "metadata": {},
   "outputs": [
    {
     "name": "stdout",
     "output_type": "stream",
     "text": [
      "False\n"
     ]
    }
   ],
   "source": [
    "check_nan = cardf.isnull().values.any()\n",
    "print(check_nan)"
   ]
  },
  {
   "cell_type": "code",
   "execution_count": 37,
   "id": "49badad0",
   "metadata": {},
   "outputs": [
    {
     "data": {
      "text/plain": [
       "False"
      ]
     },
     "execution_count": 37,
     "metadata": {},
     "output_type": "execute_result"
    }
   ],
   "source": [
    "np.isnan(cardf.values.any())"
   ]
  },
  {
   "cell_type": "code",
   "execution_count": 38,
   "id": "95f98fb8",
   "metadata": {},
   "outputs": [],
   "source": [
    "cardf.replace([np.inf, -np.inf], np.nan, inplace=True)"
   ]
  },
  {
   "cell_type": "code",
   "execution_count": 39,
   "id": "d96d8a5e",
   "metadata": {},
   "outputs": [
    {
     "name": "stdout",
     "output_type": "stream",
     "text": [
      "False\n"
     ]
    }
   ],
   "source": [
    "check_nan = cardf.isnull().values.any()\n",
    "print(check_nan)"
   ]
  },
  {
   "cell_type": "code",
   "execution_count": 40,
   "id": "d3583669",
   "metadata": {},
   "outputs": [
    {
     "data": {
      "text/plain": [
       "False"
      ]
     },
     "execution_count": 40,
     "metadata": {},
     "output_type": "execute_result"
    }
   ],
   "source": [
    "np.isnan(cardf.values.any())"
   ]
  },
  {
   "cell_type": "code",
   "execution_count": 41,
   "id": "0da0fddb",
   "metadata": {},
   "outputs": [],
   "source": [
    "cardf.fillna(999, inplace=True)"
   ]
  },
  {
   "cell_type": "code",
   "execution_count": 42,
   "id": "467351ed",
   "metadata": {},
   "outputs": [],
   "source": [
    "cardf.to_csv('Democardf.csv')"
   ]
  },
  {
   "cell_type": "code",
   "execution_count": 43,
   "id": "0b1afe91",
   "metadata": {},
   "outputs": [
    {
     "data": {
      "text/plain": [
       "ExtraTreesRegressor()"
      ]
     },
     "execution_count": 43,
     "metadata": {},
     "output_type": "execute_result"
    }
   ],
   "source": [
    "#Feature importance\n",
    "from sklearn.ensemble import ExtraTreesRegressor\n",
    "model=ExtraTreesRegressor()\n",
    "model.fit(X,Y)"
   ]
  },
  {
   "cell_type": "code",
   "execution_count": 44,
   "id": "2c90827a",
   "metadata": {},
   "outputs": [
    {
     "name": "stdout",
     "output_type": "stream",
     "text": [
      "(9319, 6)\n",
      "(9319,)\n",
      "(1165, 6)\n",
      "(1165,)\n",
      "(1165, 6)\n",
      "(1165,)\n"
     ]
    },
    {
     "data": {
      "text/plain": [
       "(None, None)"
      ]
     },
     "execution_count": 44,
     "metadata": {},
     "output_type": "execute_result"
    }
   ],
   "source": [
    "#train, valid, test\n",
    "from fast_ml.model_development import train_valid_test_split\n",
    "\n",
    "X_train, Y_train, X_valid, Y_valid, X_test, Y_test = train_valid_test_split(cardf, target = 'Selling_price', \n",
    "                                                                            train_size=0.8, valid_size=0.1, test_size=0.1)\n",
    "\n",
    "print(X_train.shape), print(Y_train.shape)\n",
    "print(X_valid.shape), print(Y_valid.shape)\n",
    "print(X_test.shape), print(Y_test.shape)"
   ]
  },
  {
   "cell_type": "code",
   "execution_count": 45,
   "id": "5d4a47d3",
   "metadata": {},
   "outputs": [
    {
     "data": {
      "text/plain": [
       "DecisionTreeRegressor(random_state=42)"
      ]
     },
     "execution_count": 45,
     "metadata": {},
     "output_type": "execute_result"
    }
   ],
   "source": [
    "from sklearn.tree import DecisionTreeRegressor\n",
    "tree_reg=DecisionTreeRegressor(random_state=42) # random state\n",
    "tree_reg.fit(X_train,Y_train)\n"
   ]
  },
  {
   "cell_type": "code",
   "execution_count": 55,
   "id": "1b9004cc",
   "metadata": {},
   "outputs": [
    {
     "data": {
      "text/plain": [
       "0.38411442255350514"
      ]
     },
     "execution_count": 55,
     "metadata": {},
     "output_type": "execute_result"
    }
   ],
   "source": [
    "y_pred_dtr = tree_reg.predict(X_test)\n",
    "\n",
    "from sklearn.metrics import r2_score\n",
    "r2_score(Y_test, y_pred_dtr)"
   ]
  },
  {
   "cell_type": "code",
   "execution_count": 46,
   "id": "90e2ea5e",
   "metadata": {},
   "outputs": [
    {
     "name": "stdout",
     "output_type": "stream",
     "text": [
      "Parameters currently in use:\n",
      "\n",
      "{'bootstrap': True,\n",
      " 'ccp_alpha': 0.0,\n",
      " 'criterion': 'mse',\n",
      " 'max_depth': None,\n",
      " 'max_features': 'auto',\n",
      " 'max_leaf_nodes': None,\n",
      " 'max_samples': None,\n",
      " 'min_impurity_decrease': 0.0,\n",
      " 'min_impurity_split': None,\n",
      " 'min_samples_leaf': 1,\n",
      " 'min_samples_split': 2,\n",
      " 'min_weight_fraction_leaf': 0.0,\n",
      " 'n_estimators': 100,\n",
      " 'n_jobs': None,\n",
      " 'oob_score': False,\n",
      " 'random_state': 42,\n",
      " 'verbose': 0,\n",
      " 'warm_start': False}\n"
     ]
    }
   ],
   "source": [
    "from sklearn.ensemble import RandomForestRegressor\n",
    "rf = RandomForestRegressor(random_state = 42)\n",
    "from pprint import pprint\n",
    "# Look at parameters used by our current forest\n",
    "print('Parameters currently in use:\\n')\n",
    "pprint(rf.get_params())"
   ]
  },
  {
   "cell_type": "code",
   "execution_count": 47,
   "id": "220af2e5",
   "metadata": {},
   "outputs": [
    {
     "name": "stdout",
     "output_type": "stream",
     "text": [
      "{'bootstrap': [True, False],\n",
      " 'max_depth': [10, 20, 30, 40, 50, 60, 70, 80, 90, 100, 110, None],\n",
      " 'max_features': ['auto', 'sqrt'],\n",
      " 'min_samples_leaf': [1, 2, 4],\n",
      " 'min_samples_split': [2, 5, 10],\n",
      " 'n_estimators': [200, 400, 600, 800, 1000, 1200, 1400, 1600, 1800, 2000]}\n"
     ]
    }
   ],
   "source": [
    "from sklearn.model_selection import RandomizedSearchCV\n",
    "# Number of trees in random forest\n",
    "n_estimators = [int(x) for x in np.linspace(start = 200, stop = 2000, num = 10)]\n",
    "# Number of features to consider at every split\n",
    "max_features = ['auto', 'sqrt']\n",
    "# Maximum number of levels in tree\n",
    "max_depth = [int(x) for x in np.linspace(10, 110, num = 11)]\n",
    "max_depth.append(None)\n",
    "# Minimum number of samples required to split a node\n",
    "min_samples_split = [2, 5, 10]\n",
    "# Minimum number of samples required at each leaf node\n",
    "min_samples_leaf = [1, 2, 4]\n",
    "# Method of selecting samples for training each tree\n",
    "bootstrap = [True, False]\n",
    "# Create the random grid\n",
    "random_grid = {'n_estimators': n_estimators,\n",
    "               'max_features': max_features,\n",
    "               'max_depth': max_depth,\n",
    "               'min_samples_split': min_samples_split,\n",
    "               'min_samples_leaf': min_samples_leaf,\n",
    "               'bootstrap': bootstrap}\n",
    "pprint(random_grid)"
   ]
  },
  {
   "cell_type": "code",
   "execution_count": 48,
   "id": "5b763007",
   "metadata": {},
   "outputs": [
    {
     "name": "stdout",
     "output_type": "stream",
     "text": [
      "Fitting 3 folds for each of 100 candidates, totalling 300 fits\n"
     ]
    },
    {
     "data": {
      "text/plain": [
       "RandomizedSearchCV(cv=3, estimator=RandomForestRegressor(), n_iter=100,\n",
       "                   n_jobs=-1,\n",
       "                   param_distributions={'bootstrap': [True, False],\n",
       "                                        'max_depth': [10, 20, 30, 40, 50, 60,\n",
       "                                                      70, 80, 90, 100, 110,\n",
       "                                                      None],\n",
       "                                        'max_features': ['auto', 'sqrt'],\n",
       "                                        'min_samples_leaf': [1, 2, 4],\n",
       "                                        'min_samples_split': [2, 5, 10],\n",
       "                                        'n_estimators': [200, 400, 600, 800,\n",
       "                                                         1000, 1200, 1400, 1600,\n",
       "                                                         1800, 2000]},\n",
       "                   random_state=42, verbose=2)"
      ]
     },
     "execution_count": 48,
     "metadata": {},
     "output_type": "execute_result"
    }
   ],
   "source": [
    "# Use the random grid to search for best hyperparameters\n",
    "# First create the base model to tune\n",
    "rf = RandomForestRegressor()\n",
    "# Random search of parameters, using 3 fold cross validation, \n",
    "# search across 100 different combinations, and use all available cores\n",
    "rf_random = RandomizedSearchCV(estimator = rf, param_distributions = random_grid, n_iter = 100, cv = 3, verbose=2, random_state=42, n_jobs = -1)\n",
    "# Fit the random search model\n",
    "rf_random.fit(X_train, Y_train)"
   ]
  },
  {
   "cell_type": "code",
   "execution_count": 49,
   "id": "19883301",
   "metadata": {},
   "outputs": [
    {
     "name": "stdout",
     "output_type": "stream",
     "text": [
      "{'n_estimators': 1600, 'min_samples_split': 2, 'min_samples_leaf': 4, 'max_features': 'sqrt', 'max_depth': 10, 'bootstrap': True}\n"
     ]
    }
   ],
   "source": [
    "print(rf_random.best_params_)"
   ]
  },
  {
   "cell_type": "code",
   "execution_count": 50,
   "id": "61bc10f0",
   "metadata": {},
   "outputs": [
    {
     "name": "stdout",
     "output_type": "stream",
     "text": [
      "Model Performance\n",
      "Average Error: 218823.8790 degrees.\n",
      "Accuracy = 54.59%.\n",
      "Model Performance\n",
      "Average Error: 199414.5443 degrees.\n",
      "Accuracy = 56.08%.\n",
      "Improvement of 2.74%.\n"
     ]
    }
   ],
   "source": [
    "# comparing the normal Random forest model (base_model) with the tuned random forest\n",
    "\n",
    "def evaluate(model, test_features, test_labels):\n",
    "    predictions = model.predict(test_features)\n",
    "    errors = abs(predictions - test_labels)\n",
    "    mape = 100 * np.mean(errors / test_labels)\n",
    "    accuracy = 100 - mape\n",
    "    print('Model Performance')\n",
    "    print('Average Error: {:0.4f} degrees.'.format(np.mean(errors)))\n",
    "    print('Accuracy = {:0.2f}%.'.format(accuracy))\n",
    "    \n",
    "    return accuracy\n",
    "base_model = RandomForestRegressor(n_estimators = 10, random_state = 42)\n",
    "base_model.fit(X_train, Y_train)\n",
    "base_accuracy = evaluate(base_model, X_valid, Y_valid)\n",
    "\n",
    "best_random = rf_random.best_estimator_\n",
    "random_accuracy = evaluate(best_random, X_valid, Y_valid)\n",
    "\n",
    "print('Improvement of {:0.2f}%.'.format( 100 * (random_accuracy - base_accuracy) / base_accuracy))\n"
   ]
  },
  {
   "cell_type": "code",
   "execution_count": 51,
   "id": "c42ea757",
   "metadata": {},
   "outputs": [
    {
     "name": "stdout",
     "output_type": "stream",
     "text": [
      "0.4479172662781803\n"
     ]
    }
   ],
   "source": [
    "#Linear Regression\n",
    "\n",
    "from sklearn.linear_model import LinearRegression\n",
    "lm = LinearRegression()\n",
    "# fit\n",
    "lm.fit(X_train, Y_train)\n",
    "# predict \n",
    "y_pred = lm.predict(X_test)\n",
    "# metrics\n",
    "from sklearn.metrics import r2_score\n",
    "print(r2_score(y_true=Y_test, y_pred=y_pred))\n"
   ]
  },
  {
   "cell_type": "code",
   "execution_count": 52,
   "id": "490bd60e",
   "metadata": {},
   "outputs": [
    {
     "name": "stdout",
     "output_type": "stream",
     "text": [
      "0.4250437318621021\n"
     ]
    }
   ],
   "source": [
    "from sklearn.linear_model import LinearRegression\n",
    "lm = LinearRegression()\n",
    "# fit\n",
    "lm.fit(X_train, Y_train)\n",
    "# predict \n",
    "y_pred = lm.predict(X_train)\n",
    "# metrics\n",
    "from sklearn.metrics import r2_score\n",
    "print(r2_score(y_true=Y_train, y_pred=y_pred))\n"
   ]
  },
  {
   "cell_type": "code",
   "execution_count": null,
   "id": "ba7b001c",
   "metadata": {},
   "outputs": [],
   "source": []
  }
 ],
 "metadata": {
  "kernelspec": {
   "display_name": "Python 3 (ipykernel)",
   "language": "python",
   "name": "python3"
  },
  "language_info": {
   "codemirror_mode": {
    "name": "ipython",
    "version": 3
   },
   "file_extension": ".py",
   "mimetype": "text/x-python",
   "name": "python",
   "nbconvert_exporter": "python",
   "pygments_lexer": "ipython3",
   "version": "3.9.7"
  }
 },
 "nbformat": 4,
 "nbformat_minor": 5
}
